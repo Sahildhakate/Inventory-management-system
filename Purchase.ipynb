{
  "nbformat": 4,
  "nbformat_minor": 0,
  "metadata": {
    "colab": {
      "name": "Purchase.ipynb",
      "provenance": []
    },
    "kernelspec": {
      "name": "python3",
      "display_name": "Python 3"
    },
    "language_info": {
      "name": "python"
    }
  },
  "cells": [
    {
      "cell_type": "code",
      "metadata": {
        "id": "RbW8fputkBxE"
      },
      "source": [
        "import json\n",
        "\n",
        "fd = open(\"record.json\",'r')\n",
        "r = fd.read()\n",
        "fd.close()\n",
        "\n",
        "records = json.loads(r)"
      ],
      "execution_count": 3,
      "outputs": []
    },
    {
      "cell_type": "code",
      "metadata": {
        "colab": {
          "base_uri": "https://localhost:8080/"
        },
        "id": "vw1N-Q7ykdYi",
        "outputId": "5feca3eb-17cf-4781-aba0-358a772df09e"
      },
      "source": [
        "records"
      ],
      "execution_count": 4,
      "outputs": [
        {
          "output_type": "execute_result",
          "data": {
            "text/plain": [
              "{'1001': {'expiry_date': '10/21', 'name': 'Choco Cake', 'pr': 100, 'qn': 120},\n",
              " '1002': {'expiry_date': '10/21', 'name': 'Milk Cake', 'pr': 800, 'qn': 100},\n",
              " '1003': {'expiry_date': '02/22', 'name': 'Drink', 'pr': 85, 'qn': 100},\n",
              " '1004': {'expiry_date': '10/22', 'name': 'Candy', 'pr': 5, 'qn': 1000},\n",
              " '1005': {'expiry_date': '10/21', 'name': 'Pen', 'pr': 20, 'qn': 100},\n",
              " '1006': {'expiry_date': 'no expiry', 'name': 'Phone', 'pr': 50000, 'qn': 10},\n",
              " '1007': {'expiry_date': 'no expiry', 'name': 'Mic', 'pr': 1500, 'qn': 20},\n",
              " '1008': {'expiry_date': 'no expiry', 'name': 'Case', 'pr': 599, 'qn': 10},\n",
              " '1009': {'expiry_date': 'no expiry',\n",
              "  'name': 'Keyboard',\n",
              "  'pr': 1999,\n",
              "  'qn': 10},\n",
              " '1010': {'expiry_date': '10/21', 'name': 'Cocacola', 'pr': 40, 'qn': 120},\n",
              " '1011': {'expiry_date': '10/21',\n",
              "  'name': 'Kitkat chocalate',\n",
              "  'pr': 10,\n",
              "  'qn': 70},\n",
              " '1012': {'expiry_date': '10/21',\n",
              "  'name': 'Amul Dark Chocalate',\n",
              "  'pr': 15,\n",
              "  'qn': 60},\n",
              " '1013': {'expiry_date': '12/21',\n",
              "  'name': 'Patanjali biscuit',\n",
              "  'pr': 10,\n",
              "  'qn': 60},\n",
              " '1014': {'expiry_date': '10/21',\n",
              "  'name': 'Ferrero Rocher',\n",
              "  'pr': 10,\n",
              "  'qn': 100},\n",
              " '1015': {'expiry_date': '10/21',\n",
              "  'name': 'Good day biscuit',\n",
              "  'pr': 15,\n",
              "  'qn': 80},\n",
              " '1016': {'expiry_date': '12/21',\n",
              "  'name': \"Haldiram's Bhujia sev\",\n",
              "  'pr': 15,\n",
              "  'qn': 60},\n",
              " '1017': {'expiry_date': '11/21',\n",
              "  'name': \"Haldiram's Aloo Bhujia\",\n",
              "  'pr': 20,\n",
              "  'qn': 80},\n",
              " '1018': {'expiry_date': '11/21',\n",
              "  'name': \"Haldiram's Mixture\",\n",
              "  'pr': 15,\n",
              "  'qn': 60},\n",
              " '1019': {'expiry_date': '10/21',\n",
              "  'name': 'Kurkure Masala',\n",
              "  'pr': 13,\n",
              "  'qn': 60},\n",
              " '1020': {'expiry_date': '11/21', 'name': 'Lays Onoin', 'pr': 15, 'qn': 60},\n",
              " '1021': {'expiry_date': '02/22', 'name': 'Bakarwadi', 'pr': 90, 'qn': 80},\n",
              " '1022': {'expiry_date': '12/21', 'name': 'Quaker Oats', 'pr': 80, 'qn': 60},\n",
              " '1023': {'expiry_date': '02/22',\n",
              "  'name': 'Kissan tomato ketchup',\n",
              "  'pr': 100,\n",
              "  'qn': 50},\n",
              " '1024': {'expiry_date': '10/22',\n",
              "  'name': 'Maggi hot and sweet Sauce',\n",
              "  'pr': 120,\n",
              "  'qn': 40},\n",
              " '1025': {'expiry_date': '12/21',\n",
              "  'name': 'Schezwan Chutney',\n",
              "  'pr': 70,\n",
              "  'qn': 60},\n",
              " '1026': {'expiry_date': '12/21', 'name': 'Chili vinegar', 'pr': 50, 'qn': 60},\n",
              " '1027': {'expiry_date': '12/21',\n",
              "  'name': 'Kissan mixed fruit jam',\n",
              "  'pr': 150,\n",
              "  'qn': 40},\n",
              " '1028': {'expiry_date': '02/22',\n",
              "  'name': 'Dabur honey 1kg',\n",
              "  'pr': 340,\n",
              "  'qn': 40},\n",
              " '1029': {'expiry_date': '12/21',\n",
              "  'name': \"Hellmann's Real Mayonnaise 275 g\",\n",
              "  'pr': 90,\n",
              "  'qn': 60},\n",
              " '1030': {'expiry_date': '10/21',\n",
              "  'name': 'Maggi noodles 70gm',\n",
              "  'pr': 12,\n",
              "  'qn': 150},\n",
              " '1031': {'expiry_date': '10/22',\n",
              "  'name': 'Mango pickle 1kg',\n",
              "  'pr': 160,\n",
              "  'qn': 60},\n",
              " '1032': {'expiry_date': '02/22',\n",
              "  'name': 'Knorr tomato soup 50gm',\n",
              "  'pr': 50,\n",
              "  'qn': 80}}"
            ]
          },
          "metadata": {},
          "execution_count": 4
        }
      ]
    },
    {
      "cell_type": "markdown",
      "metadata": {
        "id": "ZOyU4tuSWEhc"
      },
      "source": [
        "**Purchase**"
      ]
    },
    {
      "cell_type": "code",
      "metadata": {
        "colab": {
          "base_uri": "https://localhost:8080/"
        },
        "id": "kBmf3u_kkgAl",
        "outputId": "0763e70c-bfca-4a71-a0a1-9a66e4a99d62"
      },
      "source": [
        "from datetime import datetime\n",
        "\n",
        "now = datetime.now()\n",
        "dt_string = now.strftime(\"%d/%m/%Y %H:%M:%S\")\n",
        "print(\"date and time =\", dt_string)\n",
        "\n",
        "ui_prod  = str(input(\"Enter the product_Id: \"))\n",
        "ui_quant = int(input(\"Enter the quantity: \"))\n",
        "\n",
        "\n",
        "print(\"Product: \", records[ui_prod]['name'])\n",
        "print(\"Price: \", records[ui_prod]['pr'])\n",
        "print(\"Billing Amount: \", records[ui_prod]['pr'] * ui_quant)\n",
        "\n",
        "records[ui_prod]['qn'] = records[ui_prod]['qn'] - ui_quant\n",
        "\n",
        "js = json.dumps(records)\n",
        "\n",
        "fd = open(\"record.json\",'w')\n",
        "fd.write(js)\n",
        "fd.close()"
      ],
      "execution_count": 129,
      "outputs": [
        {
          "output_type": "stream",
          "name": "stdout",
          "text": [
            "date and time = 04/09/2021 18:34:30\n",
            "Enter the product_Id: 1025\n",
            "Enter the quantity: 1\n",
            "Product:  Schezwan Chutney\n",
            "Price:  70\n",
            "Billing Amount:  70\n"
          ]
        }
      ]
    },
    {
      "cell_type": "code",
      "metadata": {
        "id": "IWQzL5UGkgHF",
        "colab": {
          "base_uri": "https://localhost:8080/"
        },
        "outputId": "74c1fc92-73c8-43b6-f4a9-492224739949"
      },
      "source": [
        "{'prod' : ui_prod, 'qn' : ui_quant, 'amount': records[ui_prod]['pr'] * ui_quant}"
      ],
      "execution_count": 130,
      "outputs": [
        {
          "output_type": "execute_result",
          "data": {
            "text/plain": [
              "{'amount': 70, 'prod': '1025', 'qn': 1}"
            ]
          },
          "metadata": {},
          "execution_count": 130
        }
      ]
    },
    {
      "cell_type": "code",
      "metadata": {
        "id": "gV3WvLvQCSOX"
      },
      "source": [
        "sales[len(sales) + 1] = {'prod' : ui_prod, 'qn' : ui_quant, 'amount': records[ui_prod]['pr'] * ui_quant}"
      ],
      "execution_count": 131,
      "outputs": []
    },
    {
      "cell_type": "code",
      "metadata": {
        "colab": {
          "base_uri": "https://localhost:8080/"
        },
        "id": "yl58coRN1qZu",
        "outputId": "2c4d35af-914e-4da3-a2ac-6e82d8cdc29e"
      },
      "source": [
        "sales"
      ],
      "execution_count": 132,
      "outputs": [
        {
          "output_type": "execute_result",
          "data": {
            "text/plain": [
              "{1: {'amount': 52, 'prod': '1019', 'qn': 4},\n",
              " 2: {'amount': 52, 'prod': '1019', 'qn': 4},\n",
              " 3: {'amount': 52, 'prod': '1019', 'qn': 4},\n",
              " 4: {'amount': 150, 'prod': '1026', 'qn': 3},\n",
              " 5: {'amount': 140, 'prod': '1005', 'qn': 7},\n",
              " 6: {'amount': 250000, 'prod': '1006', 'qn': 5},\n",
              " 7: {'amount': 2995, 'prod': '1008', 'qn': 5},\n",
              " 8: {'amount': 80, 'prod': '1010', 'qn': 2},\n",
              " 9: {'amount': 40, 'prod': '1013', 'qn': 4},\n",
              " 10: {'amount': 60, 'prod': '1015', 'qn': 4},\n",
              " 11: {'amount': 60, 'prod': '1015', 'qn': 4},\n",
              " 12: {'amount': 90, 'prod': '1018', 'qn': 6},\n",
              " 13: {'amount': 65, 'prod': '1019', 'qn': 5},\n",
              " 14: {'amount': 180, 'prod': '1021', 'qn': 2},\n",
              " 15: {'amount': 320, 'prod': '1022', 'qn': 4},\n",
              " 16: {'amount': 360, 'prod': '1024', 'qn': 3},\n",
              " 17: {'amount': 70, 'prod': '1025', 'qn': 1}}"
            ]
          },
          "metadata": {},
          "execution_count": 132
        }
      ]
    },
    {
      "cell_type": "code",
      "metadata": {
        "colab": {
          "base_uri": "https://localhost:8080/"
        },
        "id": "rVwBxBYA1qcZ",
        "outputId": "2ebb7f71-a557-4305-da50-4de9ef1ccc41"
      },
      "source": [
        "len(sales)"
      ],
      "execution_count": 133,
      "outputs": [
        {
          "output_type": "execute_result",
          "data": {
            "text/plain": [
              "17"
            ]
          },
          "metadata": {},
          "execution_count": 133
        }
      ]
    },
    {
      "cell_type": "code",
      "metadata": {
        "colab": {
          "base_uri": "https://localhost:8080/"
        },
        "id": "2nGONlbRB81S",
        "outputId": "f4c3d887-4d52-47ff-f37d-3831a91ef3fc"
      },
      "source": [
        "import json\n",
        "\n",
        "sales = {1: {'amount': 52, 'prod': '1019', 'qn': 4},\n",
        " 2: {'amount': 52, 'prod': '1019', 'qn': 4},\n",
        " 3: {'amount': 52, 'prod': '1019', 'qn': 4},\n",
        " 4: {'amount': 150, 'prod': '1026', 'qn': 3},\n",
        " 5: {'amount': 140, 'prod': '1005', 'qn': 7},\n",
        " 6: {'amount': 250000, 'prod': '1006', 'qn': 5},\n",
        " 7: {'amount': 2995, 'prod': '1008', 'qn': 5},\n",
        " 8: {'amount': 80, 'prod': '1010', 'qn': 2},\n",
        " 9: {'amount': 40, 'prod': '1013', 'qn': 4},\n",
        " 10: {'amount': 60, 'prod': '1015', 'qn': 4},\n",
        " 11: {'amount': 60, 'prod': '1015', 'qn': 4},\n",
        " 12: {'amount': 90, 'prod': '1018', 'qn': 6},\n",
        " 13: {'amount': 65, 'prod': '1019', 'qn': 5},\n",
        " 14: {'amount': 180, 'prod': '1021', 'qn': 2},\n",
        " 15: {'amount': 320, 'prod': '1022', 'qn': 4},\n",
        " 16: {'amount': 360, 'prod': '1024', 'qn': 3},\n",
        " 17: {'amount': 70, 'prod': '1025', 'qn': 1}}\n",
        "sale_json = json.dumps(sales)\n",
        "print(sale_json)"
      ],
      "execution_count": 134,
      "outputs": [
        {
          "output_type": "stream",
          "name": "stdout",
          "text": [
            "{\"1\": {\"amount\": 52, \"prod\": \"1019\", \"qn\": 4}, \"2\": {\"amount\": 52, \"prod\": \"1019\", \"qn\": 4}, \"3\": {\"amount\": 52, \"prod\": \"1019\", \"qn\": 4}, \"4\": {\"amount\": 150, \"prod\": \"1026\", \"qn\": 3}, \"5\": {\"amount\": 140, \"prod\": \"1005\", \"qn\": 7}, \"6\": {\"amount\": 250000, \"prod\": \"1006\", \"qn\": 5}, \"7\": {\"amount\": 2995, \"prod\": \"1008\", \"qn\": 5}, \"8\": {\"amount\": 80, \"prod\": \"1010\", \"qn\": 2}, \"9\": {\"amount\": 40, \"prod\": \"1013\", \"qn\": 4}, \"10\": {\"amount\": 60, \"prod\": \"1015\", \"qn\": 4}, \"11\": {\"amount\": 60, \"prod\": \"1015\", \"qn\": 4}, \"12\": {\"amount\": 90, \"prod\": \"1018\", \"qn\": 6}, \"13\": {\"amount\": 65, \"prod\": \"1019\", \"qn\": 5}, \"14\": {\"amount\": 180, \"prod\": \"1021\", \"qn\": 2}, \"15\": {\"amount\": 320, \"prod\": \"1022\", \"qn\": 4}, \"16\": {\"amount\": 360, \"prod\": \"1024\", \"qn\": 3}, \"17\": {\"amount\": 70, \"prod\": \"1025\", \"qn\": 1}}\n"
          ]
        }
      ]
    },
    {
      "cell_type": "code",
      "metadata": {
        "colab": {
          "base_uri": "https://localhost:8080/"
        },
        "id": "RYOMxt6KB8tZ",
        "outputId": "881aed81-8589-4b92-be72-fb7cd3dc418a"
      },
      "source": [
        "type(sale_json)"
      ],
      "execution_count": 141,
      "outputs": [
        {
          "output_type": "execute_result",
          "data": {
            "text/plain": [
              "str"
            ]
          },
          "metadata": {},
          "execution_count": 141
        }
      ]
    },
    {
      "cell_type": "code",
      "metadata": {
        "colab": {
          "base_uri": "https://localhost:8080/"
        },
        "id": "1hdOtiCCH39g",
        "outputId": "60ddde5d-fabf-4d14-c98a-43d76b19a5ac"
      },
      "source": [
        "type(sales)"
      ],
      "execution_count": 142,
      "outputs": [
        {
          "output_type": "execute_result",
          "data": {
            "text/plain": [
              "dict"
            ]
          },
          "metadata": {},
          "execution_count": 142
        }
      ]
    },
    {
      "cell_type": "code",
      "metadata": {
        "id": "aMqlkwUKGnhE"
      },
      "source": [
        "with open(\"sales.json\", \"w\") as outfile:\n",
        "    json.dump(sales, outfile)"
      ],
      "execution_count": 136,
      "outputs": []
    },
    {
      "cell_type": "code",
      "metadata": {
        "id": "Np5AtHe4GnYS"
      },
      "source": [
        "js = json.dumps(records)\n",
        "\n",
        "fd = open(\"record.json\",'w')\n",
        "fd.write(js)\n",
        "fd.close()"
      ],
      "execution_count": null,
      "outputs": []
    },
    {
      "cell_type": "code",
      "metadata": {
        "id": "sRBSVrnaHnrb"
      },
      "source": [
        ""
      ],
      "execution_count": null,
      "outputs": []
    },
    {
      "cell_type": "code",
      "metadata": {
        "id": "egr6MF0rHnn1"
      },
      "source": [
        ""
      ],
      "execution_count": null,
      "outputs": []
    }
  ]
}