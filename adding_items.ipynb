{
  "nbformat": 4,
  "nbformat_minor": 0,
  "metadata": {
    "colab": {
      "name": "adding_items.ipynb",
      "provenance": []
    },
    "kernelspec": {
      "name": "python3",
      "display_name": "Python 3"
    },
    "language_info": {
      "name": "python"
    }
  },
  "cells": [
    {
      "cell_type": "code",
      "metadata": {
        "id": "Bcc-sEhlc0Rr"
      },
      "source": [
        "import json"
      ],
      "execution_count": 20,
      "outputs": []
    },
    {
      "cell_type": "code",
      "metadata": {
        "id": "L2xIC0iucOMl"
      },
      "source": [
        "fd = fd = open(\"record.json\",'r')\n",
        "r = fd.read()\n",
        "fd.close()\n",
        "\n",
        "record = json.loads(r)"
      ],
      "execution_count": 21,
      "outputs": []
    },
    {
      "cell_type": "code",
      "metadata": {
        "id": "XkUv2NYAobJD",
        "colab": {
          "base_uri": "https://localhost:8080/"
        },
        "outputId": "b4f2e3e4-7a94-4149-b245-c8fb4f4ced46"
      },
      "source": [
        "prod_id = str(input(\"Enter product id:\"))\n",
        "if (prod_id in record.keys()):\n",
        "  print(\"Existing item\")\n",
        "  newprod_qn = int(input(\"Enter quantity:\"))\n",
        "  \n",
        "else:\n",
        "  print(\"New item\")\n",
        "  name = str(input(\"Enter name:\"))\n",
        "  pr = int(input(\"Enter price:\"))\n",
        "  expiry_date = str(input(\"Enter expiry date:\"))\n",
        "  qn = int(input(\"Enter quantity:\"))\n",
        "\n",
        "qn = qn + newprod_qn\n",
        "record[prod_id] = {'name': name, 'expiry_date': expiry_date, 'pr': pr, 'qn': qn}\n",
        "\n",
        "js = json.dumps(record)\n",
        "\n",
        "fd = open(\"record.json\",'w')\n",
        "fd.write(js)\n",
        "fd.close()"
      ],
      "execution_count": 32,
      "outputs": [
        {
          "name": "stdout",
          "output_type": "stream",
          "text": [
            "Enter product id:1001\n",
            "Existing item\n",
            "Enter quantity:10\n"
          ]
        }
      ]
    },
    {
      "cell_type": "code",
      "metadata": {
        "colab": {
          "base_uri": "https://localhost:8080/"
        },
        "id": "-qohVueyTv9d",
        "outputId": "24fe7022-8a22-4d83-be30-772bd9ce021c"
      },
      "source": [
        "record"
      ],
      "execution_count": 33,
      "outputs": [
        {
          "output_type": "execute_result",
          "data": {
            "text/plain": [
              "{'1001': {'expiry_date': '10/21', 'name': 'Choco Cake', 'pr': 100, 'qn': 120},\n",
              " '1002': {'expiry_date': '10/21', 'name': 'Milk Cake', 'pr': 800, 'qn': 100},\n",
              " '1003': {'expiry_date': '02/22', 'name': 'Drink', 'pr': 85, 'qn': 100},\n",
              " '1004': {'expiry_date': '10/22', 'name': 'Candy', 'pr': 5, 'qn': 1000},\n",
              " '1005': {'expiry_date': '10/21', 'name': 'Pen', 'pr': 20, 'qn': 100},\n",
              " '1006': {'expiry_date': 'no expiry', 'name': 'Phone', 'pr': 50000, 'qn': 10},\n",
              " '1007': {'expiry_date': 'no expiry', 'name': 'Mic', 'pr': 1500, 'qn': 20},\n",
              " '1008': {'expiry_date': 'no expiry', 'name': 'Case', 'pr': 599, 'qn': 10},\n",
              " '1009': {'expiry_date': 'no expiry',\n",
              "  'name': 'Keyboard',\n",
              "  'pr': 1999,\n",
              "  'qn': 10},\n",
              " '1010': {'expiry_date': '10/21', 'name': 'Cocacola', 'pr': 40, 'qn': 120},\n",
              " '1011': {'expiry_date': '10/21',\n",
              "  'name': 'Kitkat chocalate',\n",
              "  'pr': 10,\n",
              "  'qn': 70},\n",
              " '1012': {'expiry_date': '10/21',\n",
              "  'name': 'Amul Dark Chocalate',\n",
              "  'pr': 15,\n",
              "  'qn': 60},\n",
              " '1013': {'expiry_date': '12/21',\n",
              "  'name': 'Patanjali biscuit',\n",
              "  'pr': 10,\n",
              "  'qn': 60},\n",
              " '1014': {'expiry_date': '10/21',\n",
              "  'name': 'Ferrero Rocher',\n",
              "  'pr': 10,\n",
              "  'qn': 100},\n",
              " '1015': {'expiry_date': '10/21',\n",
              "  'name': 'Good day biscuit',\n",
              "  'pr': 15,\n",
              "  'qn': 80},\n",
              " '1016': {'expiry_date': '12/21',\n",
              "  'name': \"Haldiram's Bhujia sev\",\n",
              "  'pr': 15,\n",
              "  'qn': 60},\n",
              " '1017': {'expiry_date': '11/21',\n",
              "  'name': \"Haldiram's Aloo Bhujia\",\n",
              "  'pr': 20,\n",
              "  'qn': 80},\n",
              " '1018': {'expiry_date': '11/21',\n",
              "  'name': \"Haldiram's Mixture\",\n",
              "  'pr': 15,\n",
              "  'qn': 60},\n",
              " '1019': {'expiry_date': '10/21',\n",
              "  'name': 'Kurkure Masala',\n",
              "  'pr': 13,\n",
              "  'qn': 60},\n",
              " '1020': {'expiry_date': '11/21', 'name': 'Lays Onoin', 'pr': 15, 'qn': 60},\n",
              " '1021': {'expiry_date': '02/22', 'name': 'Bakarwadi', 'pr': 90, 'qn': 80},\n",
              " '1022': {'expiry_date': '12/21', 'name': 'Quaker Oats', 'pr': 80, 'qn': 60},\n",
              " '1023': {'expiry_date': '02/22',\n",
              "  'name': 'Kissan tomato ketchup',\n",
              "  'pr': 100,\n",
              "  'qn': 50},\n",
              " '1024': {'expiry_date': '10/22',\n",
              "  'name': 'Maggi hot and sweet Sauce',\n",
              "  'pr': 120,\n",
              "  'qn': 40},\n",
              " '1025': {'expiry_date': '12/21',\n",
              "  'name': 'Schezwan Chutney',\n",
              "  'pr': 70,\n",
              "  'qn': 60},\n",
              " '1026': {'expiry_date': '12/21', 'name': 'Chili vinegar', 'pr': 50, 'qn': 60},\n",
              " '1027': {'expiry_date': '12/21',\n",
              "  'name': 'Kissan mixed fruit jam',\n",
              "  'pr': 150,\n",
              "  'qn': 40},\n",
              " '1028': {'expiry_date': '02/22',\n",
              "  'name': 'Dabur honey 1kg',\n",
              "  'pr': 340,\n",
              "  'qn': 40},\n",
              " '1029': {'expiry_date': '12/21',\n",
              "  'name': \"Hellmann's Real Mayonnaise 275 g\",\n",
              "  'pr': 90,\n",
              "  'qn': 60},\n",
              " '1030': {'expiry_date': '10/21',\n",
              "  'name': 'Maggi noodles 70gm',\n",
              "  'pr': 12,\n",
              "  'qn': 150},\n",
              " '1031': {'expiry_date': '10/22',\n",
              "  'name': 'Mango pickle 1kg',\n",
              "  'pr': 160,\n",
              "  'qn': 60},\n",
              " '1032': {'expiry_date': '02/22',\n",
              "  'name': 'Knorr tomato soup 50gm',\n",
              "  'pr': 50,\n",
              "  'qn': 80}}"
            ]
          },
          "metadata": {},
          "execution_count": 33
        }
      ]
    }
  ]
}